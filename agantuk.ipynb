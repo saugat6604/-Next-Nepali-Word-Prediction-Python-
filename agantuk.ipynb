{
 "cells": [
  {
   "cell_type": "code",
   "execution_count": 3,
   "metadata": {
    "collapsed": true
   },
   "outputs": [
    {
     "data": {
      "text/plain": [
       "{'school': ['स्कुल'],\n",
       " 'college': ['कलेज'],\n",
       " 'computer': ['कम्प्युटर'],\n",
       " 'mobile': ['मोबाईल'],\n",
       " 'phone': ['फोन'],\n",
       " 'telephone': ['टेलिफोन'],\n",
       " 'plan': ['प्लान'],\n",
       " 'coat': ['कोट'],\n",
       " 'table': ['टेवल'],\n",
       " 'photo': ['फोटो'],\n",
       " 'tie': ['टाई'],\n",
       " 'motor': ['मोटर'],\n",
       " 'radio': ['रेडियो'],\n",
       " 'television': ['टेलिभिजन'],\n",
       " 'bus': ['वस'],\n",
       " 'driver': ['ड्राइभर'],\n",
       " 'calculator': ['क्याल्कुलेटर'],\n",
       " 'shirt': ['सर्ट'],\n",
       " 'paaint': ['पाइन्ट'],\n",
       " 'pipe': ['पाइप'],\n",
       " 'light': ['लाईट'],\n",
       " 'thermos': ['थर्मस'],\n",
       " 'general': ['गेनेरल'],\n",
       " 'jarnel': ['जर्नेल'],\n",
       " 'litchi': ['लिची'],\n",
       " 'resturaa': ['रेस्टुराँ'],\n",
       " 'cartoon': ['कार्टुन'],\n",
       " 'police': ['पुलिस'],\n",
       " 'curfew': ['कफुर्यु'],\n",
       " 'marshal': ['मार्सल'],\n",
       " 'calender': ['क्यालेन्डर'],\n",
       " 'deposit': ['डिपोजिट'],\n",
       " 'bonus': ['वोनस'],\n",
       " 'campus': ['क्याम्पस'],\n",
       " 'thesis': ['थेसिस'],\n",
       " 'philosophy': ['फिलोस्फी'],\n",
       " 'honda': ['होन्डा'],\n",
       " 'suzuki': ['सुजुकी'],\n",
       " 'rikshaw': ['रिक्सा'],\n",
       " 'seminar': ['सेमिनार'],\n",
       " 'kindergarten': ['किन्डगार्टेन']}"
      ]
     },
     "execution_count": 3,
     "metadata": {},
     "output_type": "execute_result"
    }
   ],
   "source": []
  },
  {
   "cell_type": "code",
   "execution_count": null,
   "metadata": {},
   "outputs": [],
   "source": []
  }
 ],
 "metadata": {
  "kernelspec": {
   "display_name": "Python 3",
   "language": "python",
   "name": "python3"
  },
  "language_info": {
   "codemirror_mode": {
    "name": "ipython",
    "version": 3
   },
   "file_extension": ".py",
   "mimetype": "text/x-python",
   "name": "python",
   "nbconvert_exporter": "python",
   "pygments_lexer": "ipython3",
   "version": "3.8.5"
  }
 },
 "nbformat": 4,
 "nbformat_minor": 4
}
