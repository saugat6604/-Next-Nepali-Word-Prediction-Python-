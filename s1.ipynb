{
 "cells": [
  {
   "cell_type": "code",
   "execution_count": 33,
   "metadata": {},
   "outputs": [],
   "source": [
    "vowel = {\n",
    "    'अ':'a','आ':'a','इ':'i','ई':'i','उ':'u','ऊ':'u','ए':'ye','ऐ':'ai','ओ':'o','औ':'au','ऋ':'ri'\n",
    "}"
   ]
  },
  {
   "cell_type": "code",
   "execution_count": 34,
   "metadata": {
    "scrolled": true
   },
   "outputs": [],
   "source": [
    "consonant = {\n",
    "    'क':'k','ख':'kh','ग':'g','घ':'gh','ज':'j','झ':'jh','प':'p','फ':'ph','भ':'bh','म':'m','य':'y','र':'r','ल':'l','ह':'h','ज्ञ':'gy'\n",
    "}\n",
    "\n",
    "n = { 'न':'n','ङ':'n','ञ':'n','ण':'n'}\n",
    "\n",
    "t={'ट':'t','त':'t'}\n",
    "th={'ठ':'th','थ':'th'}\n",
    "\n",
    "d={'ड':'d','द':'d'}\n",
    "dh={'ढ':'dh','ध':'dh'}\n",
    "\n",
    "s={'स':'s','श':'s','ष':'s'}\n",
    "b={'ब':'b'}\n",
    "w={'व':'b'}\n",
    "\n",
    "ch={'च':'ch','छ':'chh'}\n",
    "ksh={'क्ष':'ksh'}\n",
    "\n",
    "# in reverse mapping convert z->j and f-> ph\n"
   ]
  },
  {
   "cell_type": "code",
   "execution_count": 35,
   "metadata": {},
   "outputs": [],
   "source": [
    "def mergedict(*args):\n",
    "    output = {}\n",
    "    for arg in args:\n",
    "        output.update(arg)\n",
    "    return output\n"
   ]
  },
  {
   "cell_type": "code",
   "execution_count": 36,
   "metadata": {},
   "outputs": [],
   "source": [
    "consonant=mergedict(consonant,n,t,th,d,dh,s,b,w,ch,ksh)"
   ]
  },
  {
   "cell_type": "code",
   "execution_count": 37,
   "metadata": {},
   "outputs": [],
   "source": [
    "diacritic={'ा':'a','ि':'i', 'ी':'i', 'ु':'u', 'ू':'u', 'े': 'e', 'ै':'ai', 'ो':'o', 'ौ':'au','ृ':'ri','ः':'ah'}"
   ]
  },
  {
   "cell_type": "code",
   "execution_count": 38,
   "metadata": {},
   "outputs": [],
   "source": [
    "additive={'ं':'n','ँ':'n'}"
   ]
  },
  {
   "cell_type": "code",
   "execution_count": 39,
   "metadata": {},
   "outputs": [],
   "source": [
    "# text=\"नेकपा उपाध्यक्ष वामदेव गौतम राष्ट्रिय सभा सदस्य बन्ने भएका\"\n",
    "def get_text_array(text):\n",
    "    length=len(text)\n",
    "    i=0\n",
    "    text_arr=[]\n",
    "    while (i<length):\n",
    "        if text[i] in (\"क\",\"ज\") and i+2 < length:\n",
    "            if text[i:i+3] in ('ज्ञ','क्ष'):\n",
    "                text_arr.append(text[i:i+3])\n",
    "                i+=3\n",
    "                continue\n",
    "#         if text[i]!=\"ँ\":pass\n",
    "        text_arr+=text[i]\n",
    "        i+=1\n",
    "    return text_arr\n"
   ]
  },
  {
   "cell_type": "code",
   "execution_count": 40,
   "metadata": {
    "scrolled": true
   },
   "outputs": [],
   "source": [
    "# text=\"नेकपा उपाध्यक्ष वामदेव गौतम राष्ट्रिय सभा सदस्य बन्ने भएका\"\n",
    "# text=\"अहिले अनलाइन कक्षा सञ्चालन भएको छ \"\n",
    "# text=\"विद्यालय वाणिज्य महासंघ महासंघको चुनाव राष्ट्रिय त्रास विज्ञान वृहत दामी एक बैंकको कार्ड अर्को बैंक\"\n",
    "# text='''खारेज गरिएका संघहरुमा नेपाल बाघचाल संघ, नेपाल बृज संघ, \n",
    "# नेपाल सिन्जीनकाई कराते संघ, अखिल नेपाल विद्यालय खेलकुद संघ, गोर्खा एक्सन मार्सल आर्ट्स संघ नेपाल,\n",
    "# नेपाल आसिहारा काईकान कराते डो संघ, एभिएसन स्पोर्ट्स एसोसिएसन नेपाल र नेपाल एमेच्योर किक बक्सिङ संघ छन् \n",
    "# '''\n",
    "\n",
    "def get_english(text):\n",
    "    out=\"\"\n",
    "    text_arr = get_text_array(text)\n",
    "    skip= True\n",
    "    for letter in text_arr:\n",
    "        if letter in (\" \",\",\",\"!\",\"।\",\"-\"):\n",
    "            out+=letter\n",
    "            skip= True\n",
    "            continue\n",
    "        if (not skip): \n",
    "                if letter in diacritic:\n",
    "                    out+=diacritic[letter]\n",
    "                    skip=True \n",
    "                    continue\n",
    "                elif letter != '्':\n",
    "                    out+='a'\n",
    "                elif letter == '्':\n",
    "                    skip=True\n",
    "                    continue;\n",
    "        if  letter in consonant:\n",
    "#             if type(consonant[letter])==list:\n",
    "#                 out+=consonant[letter][0]\n",
    "#             else: pass\n",
    "            out+=consonant[letter]\n",
    "            if(skip): \n",
    "                skip=False\n",
    "\n",
    "        elif letter in vowel:\n",
    "            out+=vowel[letter]\n",
    "            skip=True\n",
    "        elif letter in additive:\n",
    "            out+=additive[letter]\n",
    "            skip=True\n",
    "        else:\n",
    "            out+=letter\n",
    "    return out\n",
    "        \n"
   ]
  },
  {
   "cell_type": "code",
   "execution_count": 41,
   "metadata": {},
   "outputs": [
    {
     "data": {
      "text/plain": [
       "'skul'"
      ]
     },
     "execution_count": 41,
     "metadata": {},
     "output_type": "execute_result"
    }
   ],
   "source": [
    "wod=\"स्कुल\"\n",
    "get_english(wod)"
   ]
  },
  {
   "cell_type": "code",
   "execution_count": 42,
   "metadata": {},
   "outputs": [],
   "source": [
    "with open('shabdakosh-words.txt', encoding='utf-8') as f:\n",
    "    lines=f.read().splitlines();"
   ]
  },
  {
   "cell_type": "code",
   "execution_count": 43,
   "metadata": {},
   "outputs": [],
   "source": [
    "hyphen = \"–\"\n",
    "nepali_numbers = \"१२३४५६७८९\"\n",
    "slash = \"/\"\n",
    "\n",
    "\n",
    "def process_word(word):\n",
    "    # some word has number in it, i.e. खापा२\n",
    "    if word[-1] in nepali_numbers:\n",
    "        word = word[:-1]\n",
    "    # some words have suffix indicators.. खाप्–नु\n",
    "    if hyphen in word:\n",
    "        # word = word.replace(hyphen, \"\")\n",
    "        word = word.split(hyphen)\n",
    "        \n",
    "        if word[1]=='नु':word=word[0]\n",
    "\n",
    "    # some root have aliases, i.e. खान्की/खान्गी, give two independent words\n",
    "    if slash in word:\n",
    "        return word.split(slash)\n",
    "    return word"
   ]
  },
  {
   "cell_type": "code",
   "execution_count": 63,
   "metadata": {
    "scrolled": false
   },
   "outputs": [],
   "source": [
    "# location = 'shabdakosh-words.txt'\n",
    "location = 'stopwords_v2.txt'\n",
    "def read_sabd():\n",
    "    s=set()\n",
    "    with open(location, encoding='utf-8') as f:\n",
    "        lines=f.read().splitlines()\n",
    "        for x in lines:\n",
    "            word =process_word(x)\n",
    "\n",
    "            if type(word)==str: \n",
    "                s.add(word)\n",
    "            else: s.update(word)\n",
    "\n",
    "    l=sorted(s)\n",
    "    ll=list(map(get_english,l))\n",
    "    return dict(zip(l,ll))"
   ]
  },
  {
   "cell_type": "code",
   "execution_count": 64,
   "metadata": {
    "scrolled": true
   },
   "outputs": [],
   "source": [
    "v=read_sabd()\n",
    "# print(v)"
   ]
  },
  {
   "cell_type": "code",
   "execution_count": 65,
   "metadata": {},
   "outputs": [],
   "source": [
    "ll=dict()\n",
    "for j,i in v.items():\n",
    "    if(ll.get(i,'')):\n",
    "        ll[i].append((j,0))\n",
    "    else:\n",
    "        ll[i]=[(j,0)]\n",
    "    \n",
    "# print(ll)"
   ]
  },
  {
   "cell_type": "code",
   "execution_count": 66,
   "metadata": {
    "scrolled": false
   },
   "outputs": [
    {
     "data": {
      "text/plain": [
       "{'atirikt': [('अतिरिक्त', 0)],\n",
       " 'anusar': [('अनुसार', 0)],\n",
       " 'antargat': [('अन्तर्गत', 0)],\n",
       " 'alaba': [('अलावा', 0)],\n",
       " 'asapas': [('आसपास', 0)],\n",
       " 'uprant': [('उप्रान्त', 0)],\n",
       " 'kan': [('कन', 0)],\n",
       " 'ka': [('का', 0)],\n",
       " 'karan': [('कारण', 0)],\n",
       " 'ki': [('कि', 0), ('की', 0)],\n",
       " 'kebal': [('केबल', 0)],\n",
       " 'ko': [('को', 0)],\n",
       " 'khatir': [('खातिर', 0)],\n",
       " 'kher': [('खेर', 0)],\n",
       " 'garne': [('गर्ने', 0)],\n",
       " 'chh': [('छ', 0)],\n",
       " 'chhan': [('छन', 0), ('छन्', 0)],\n",
       " 'chhu': [('छु', 0)],\n",
       " 'chheuchhau': [('छेउछाउ', 0)],\n",
       " 'chhain': [('छैन', 0)],\n",
       " 'chhainan': [('छैनन्', 0)],\n",
       " 'chhau': [('छौ', 0)],\n",
       " 'chhaun': [('छौं', 0)],\n",
       " 'jasta': [('जस्ता', 0)],\n",
       " 'jastai': [('जस्तै', 0)],\n",
       " 'jasto': [('जस्तो', 0)],\n",
       " 'jhain': [('झैँ', 0), ('झैं', 0)],\n",
       " 'tarph': [('तर्फ', 0)],\n",
       " 'tak': [('ताक', 0)],\n",
       " 'tir': [('तिर', 0)],\n",
       " 'taipani': [('तैपनी', 0)],\n",
       " 'thari': [('थरि', 0), ('थरी', 0)],\n",
       " 'thiye': [('थिए', 0)],\n",
       " 'thiyen': [('थिएँ', 0), ('थिएन', 0)],\n",
       " 'thiyo': [('थियो', 0)],\n",
       " 'darta': [('दर्ता', 0)],\n",
       " 'das': [('दश', 0)],\n",
       " 'diye': [('दिए', 0)],\n",
       " 'dekhi': [('देखि', 0)],\n",
       " 'dekhin': [('देखिन्', 0)],\n",
       " 'dbara': [('द्वारा', 0)],\n",
       " 'najik': [('नजिक', 0)],\n",
       " 'nayan': [('नयाँ', 0)],\n",
       " 'na': [('ना', 0)],\n",
       " 'ni': [('नि', 0), ('नी', 0)],\n",
       " 'nimitt': [('निमित्त', 0)],\n",
       " 'nimti': [('निम्ति', 0), ('निम्ती', 0)],\n",
       " 'nimn': [('निम्न', 0)],\n",
       " 'nimnanusar': [('निम्नानुसार', 0)],\n",
       " 'nir': [('निर', 0)],\n",
       " 'nai': [('नै', 0)],\n",
       " 'no': [('नो', 0)],\n",
       " 'nau': [('नौ', 0)],\n",
       " 'pachhadi': [('पछाडि', 0), ('पछाडी', 0)],\n",
       " 'pachhi': [('पछी', 0)],\n",
       " 'patak': [('पटक', 0)],\n",
       " 'patti': [('पट्टी', 0)],\n",
       " 'pani': [('पनि', 0)],\n",
       " 'parchh': [('पर्छ', 0)],\n",
       " 'parthyo': [('पर्थ्यो', 0)],\n",
       " 'pardain': [('पर्दैन', 0)],\n",
       " 'parne': [('पर्ने', 0)],\n",
       " 'paryant': [('पर्यन्त', 0)],\n",
       " 'paschat': [('पश्चात', 0)],\n",
       " 'pahile': [('पहिले', 0)],\n",
       " 'pali': [('पालि', 0)],\n",
       " 'pichchhe': [('पिच्छे', 0)],\n",
       " 'purb': [('पूर्व', 0)],\n",
       " 'po': [('पो', 0)],\n",
       " 'prati': [('प्रति', 0)],\n",
       " 'pratek': [('प्रतेक', 0)],\n",
       " 'pray': [('प्राय', 0)],\n",
       " 'bamojim': [('बमोजिम', 0)],\n",
       " 'bahir': [('बहिर', 0)],\n",
       " 'bat': [('बाट', 0), ('वाट', 0)],\n",
       " 'bapat': [('बापत', 0), ('वापत', 0)],\n",
       " 'bare': [('बारे', 0), ('वारे', 0)],\n",
       " 'bahek': [('बाहेक', 0)],\n",
       " 'bich': [('बिच', 0), ('बीच', 0)],\n",
       " 'bichama': [('बिचमा', 0), ('बीचमा', 0)],\n",
       " 'bittikai': [('बित्तिकै', 0)],\n",
       " 'bina': [('बिना', 0)],\n",
       " 'biruddh': [('बिरुद्ध', 0)],\n",
       " 'bises': [('बिशेष', 0)],\n",
       " 'bhaye': [('भए', 0)],\n",
       " 'bhayen': [('भएँ', 0), ('भएन', 0), ('भयेन', 0)],\n",
       " 'bhayeka': [('भएका', 0)],\n",
       " 'bhayekalai': [('भएकालाई', 0)],\n",
       " 'bhayeko': [('भएको', 0)],\n",
       " 'bhayer': [('भएर', 0)],\n",
       " 'bhane': [('भने', 0)],\n",
       " 'bhaneko': [('भनेको', 0)],\n",
       " 'bhaner': [('भनेर', 0)],\n",
       " 'bhan': [('भन्', 0)],\n",
       " 'bhanchhan': [('भन्छन्', 0)],\n",
       " 'bhanchhu': [('भन्छु', 0)],\n",
       " 'bhanda': [('भन्दा', 0)],\n",
       " 'bhandai': [('भन्दै', 0)],\n",
       " 'bhannubhayo': [('भन्नुभयो', 0)],\n",
       " 'bhanne': [('भन्ने', 0)],\n",
       " 'bhanya': [('भन्या', 0)],\n",
       " 'bhayo': [('भयो', 0)],\n",
       " 'bhar': [('भर', 0)],\n",
       " 'bhari': [('भरि', 0), ('भरी', 0)],\n",
       " 'bha': [('भा', 0)],\n",
       " 'bhitr': [('भित्र', 0)],\n",
       " 'madhy': [('मध्य', 0)],\n",
       " 'madhye': [('मध्ये', 0)],\n",
       " 'ma': [('मा', 0)],\n",
       " 'matr': [('मात्र', 0)],\n",
       " 'matrai': [('मात्रै', 0)],\n",
       " 'mathi': [('माथि', 0), ('माथी', 0)],\n",
       " 'muni': [('मुनि', 0)],\n",
       " 'muntir': [('मुन्तिर', 0)],\n",
       " 'mero': [('मेरो', 0)],\n",
       " 'maile': [('मैले', 0)],\n",
       " 'ya': [('या', 0)],\n",
       " 'yi': [('यी', 0)],\n",
       " 'yo': [('यो', 0)],\n",
       " 'raheka': [('रहेका', 0)],\n",
       " 'raheko': [('रहेको', 0)],\n",
       " 'rahechh': [('रहेछ', 0)],\n",
       " 'ra': [('रा', 0)],\n",
       " 'rakhe': [('राखे', 0)],\n",
       " 'rakhchh': [('राख्छ', 0)],\n",
       " 'ri': [('री', 0)],\n",
       " 'ro': [('रो', 0)],\n",
       " 'lai': [('लाई', 0)],\n",
       " 'lagi': [('लागि', 0)],\n",
       " 'lageko': [('लागेको', 0)],\n",
       " 'le': [('ले', 0)],\n",
       " 'bata': [('वटा', 0)],\n",
       " 'baripari': [('वरिपरी', 0)],\n",
       " 'sang': [('सँग', 0), ('संग', 0)],\n",
       " 'sangai': [('संगै', 0), ('सङ्गै', 0)],\n",
       " 'satta': [('सट्टा', 0)],\n",
       " 'samaksh': [('समक्ष', 0)],\n",
       " 'saman': [('समान', 0)],\n",
       " 'samunne': [('समुन्ने', 0)],\n",
       " 'samet': [('समेत', 0)],\n",
       " 'samm': [('सम्म', 0)],\n",
       " 'sarah': [('सरह', 0)],\n",
       " 'sari': [('सरि', 0)],\n",
       " 'sahit': [('सहित', 0)],\n",
       " 'sahitai': [('सहितै', 0)],\n",
       " 'sath': [('साथ', 0)],\n",
       " 'sathai': [('साथै', 0)],\n",
       " 'samu': [('सामु', 0)],\n",
       " 'sit': [('सित', 0)],\n",
       " 'sibay': [('सिवाय', 0)],\n",
       " 'sthit': [('स्थित', 0)],\n",
       " 'haru': [('हरु', 0)],\n",
       " 'hundain': [('हुँदैन', 0)],\n",
       " 'hun': [('हुन', 0), ('हुन्', 0)],\n",
       " 'hunat': [('हुनत', 0)],\n",
       " 'hunu': [('हुनु', 0)],\n",
       " 'hune': [('हुने', 0)],\n",
       " 'hunechh': [('हुनेछ', 0)],\n",
       " 'hunchh': [('हुन्छ', 0)],\n",
       " 'hunthyo': [('हुन्थ्यो', 0)],\n",
       " 'hain': [('हैन', 0)],\n",
       " 'ho': [('हो', 0)],\n",
       " 'hoin': [('होइन', 0)]}"
      ]
     },
     "metadata": {},
     "output_type": "display_data"
    }
   ],
   "source": [
    "display(ll)"
   ]
  },
  {
   "cell_type": "code",
   "execution_count": 48,
   "metadata": {},
   "outputs": [],
   "source": [
    "import json\n"
   ]
  },
  {
   "cell_type": "code",
   "execution_count": 67,
   "metadata": {},
   "outputs": [],
   "source": [
    "with open('map_stop.json','w') as f:\n",
    "    json.dump(ll,f)"
   ]
  },
  {
   "cell_type": "code",
   "execution_count": 21,
   "metadata": {},
   "outputs": [],
   "source": [
    "with open('map_stop.json') as fi:\n",
    "    kk = json.load(fi)"
   ]
  },
  {
   "cell_type": "code",
   "execution_count": 22,
   "metadata": {},
   "outputs": [],
   "source": [
    "import re"
   ]
  },
  {
   "cell_type": "code",
   "execution_count": 25,
   "metadata": {},
   "outputs": [],
   "source": [
    "text=\"sa\"\n",
    "r= re.compile(text)"
   ]
  },
  {
   "cell_type": "code",
   "execution_count": 26,
   "metadata": {},
   "outputs": [
    {
     "name": "stdout",
     "output_type": "stream",
     "text": [
      "sayad [['शायद', 0], ['सायद', 0]]\n",
      "sang [['सँग', 0], ['संग', 0], ['सङ्ग', 0]]\n",
      "sangako [['सँगको', 0], ['सङ्गको', 0]]\n",
      "sangasangai [['सँगसँगै', 0]]\n",
      "sangai [['सँगै', 0], ['संगै', 0]]\n",
      "sakchh [['सक्छ', 0]]\n",
      "sakne [['सक्ने', 0]]\n",
      "satta [['सट्टा', 0]]\n",
      "satr [['सत्र', 0]]\n",
      "sadhai [['सधै', 0]]\n",
      "sabai [['सबै', 0]]\n",
      "sabaiko [['सबैको', 0]]\n",
      "sabailai [['सबैलाई', 0]]\n",
      "samay [['समय', 0]]\n",
      "samet [['समेत', 0]]\n",
      "sambhab [['सम्भव', 0]]\n",
      "samm [['सम्म', 0]]\n",
      "say [['सय', 0]]\n",
      "sarah [['सरह', 0]]\n",
      "sahit [['सहित', 0]]\n",
      "sahitai [['सहितै', 0]]\n",
      "sahi [['सही', 0]]\n",
      "sanchchai [['साँच्चै', 0]]\n",
      "sat [['सात', 0]]\n",
      "sath [['साथ', 0]]\n",
      "sathai [['साथै', 0]]\n",
      "sara [['सारा', 0]]\n"
     ]
    }
   ],
   "source": [
    "for x,val in kk.items():\n",
    "    if r.match(x):\n",
    "        print(x,val)"
   ]
  },
  {
   "cell_type": "code",
   "execution_count": null,
   "metadata": {},
   "outputs": [],
   "source": []
  }
 ],
 "metadata": {
  "kernelspec": {
   "display_name": "Python 3",
   "language": "python",
   "name": "python3"
  },
  "language_info": {
   "codemirror_mode": {
    "name": "ipython",
    "version": 3
   },
   "file_extension": ".py",
   "mimetype": "text/x-python",
   "name": "python",
   "nbconvert_exporter": "python",
   "pygments_lexer": "ipython3",
   "version": "3.8.5"
  }
 },
 "nbformat": 4,
 "nbformat_minor": 2
}
